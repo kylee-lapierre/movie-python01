{
 "cells": [
  {
   "cell_type": "markdown",
   "metadata": {},
   "source": [
    "**Movie Tickets Project - practicing variables, strings, and flow**"
   ]
  },
  {
   "cell_type": "code",
   "execution_count": 23,
   "metadata": {},
   "outputs": [
    {
     "name": "stdout",
     "output_type": "stream",
     "text": [
      "['1 - Beast', '2 - Minions: The Rise of Gru', '3 - Thor: Love and Thunder']\n",
      "3 - Thor: Love and Thunder\n"
     ]
    }
   ],
   "source": [
    "print(\"Welcome to the movies!\")\n",
    "choice = 'y'\n",
    "\n",
    "# Initializes order total\n",
    "total_order = 0\n",
    "\n",
    "# While loop starts\n",
    "while choice == 'y':\n",
    "    first_movie = '1 - Beast'\n",
    "    second_movie = '2 - Minions: The Rise of Gru'\n",
    "    third_movie = '3 - Thor: Love and Thunder'\n",
    "    movies = first_movie + ', ' + second_movie + \", \" + third_movie\n",
    "    movies = movies.split(', ')\n",
    "    print(movies)\n",
    "\n",
    "    # Prints the selected movie\n",
    "    select_movie = int(input('Select movie: '))\n",
    "    if select_movie == 1:\n",
    "        print(first_movie)\n",
    "    elif select_movie == 2:\n",
    "        print(second_movie)\n",
    "    elif select_movie == 3:\n",
    "        print(third_movie)\n",
    "\n",
    "    # Ticket prices, tax, and food prices\n",
    "    adult_ticket_price = 10.20\n",
    "    child_ticket_price = 7.52\n",
    "    local_tax = 1.072\n",
    "    popcorn_price = 7.90\n",
    "    candy_price = 5.00\n",
    "    drink_price = 6.25\n",
    "\n",
    "    adult_ticket = int(input(\"Number of adult tickets: \"))\n",
    "    child_ticket = int(input('Number of child tickets: '))\n",
    "\n",
    "    popcorn = int(input(\"How many popcorn buckets? \"))\n",
    "    popcorn_total = popcorn_price*popcorn\n",
    "\n",
    "    candy = int(input(\"How many candy boxes? \"))\n",
    "    candy_total = candy_price*candy\n",
    "\n",
    "    drink = int(input(\"How many drinks? \"))\n",
    "    drink_total = drink_price*drink\n",
    "\n",
    "    food_total = popcorn_total + candy_total + drink_total\n",
    "    \n",
    "    # Prints total of each order\n",
    "    total = round((adult_ticket_price*adult_ticket)*(local_tax) + (child_ticket_price*child_ticket)*(local_tax) + food_total, 2)\n",
    "    print(\"$\" + str(total))\n",
    "    total_order = total + total_order\n",
    "    # While loop either ends or continues\n",
    "    choice = input(\"Do you want to purchase more tickets? (y or n) \")\n",
    "\n",
    "print(\"Total for all movies: $\" + str(total_order))\n",
    "print(\"Enjoy your movie! Goodbye!\")"
   ]
  },
  {
   "cell_type": "markdown",
   "metadata": {},
   "source": [
    "*Prompts the user to select a movie, how many adult and child tickets, how much food they want, and the total for everything with a dollar sign and two decimal places. Also includes the tax rate for my area (7.2%)*"
   ]
  }
 ],
 "metadata": {
  "kernelspec": {
   "display_name": "Python 3.9.12 ('base')",
   "language": "python",
   "name": "python3"
  },
  "language_info": {
   "codemirror_mode": {
    "name": "ipython",
    "version": 3
   },
   "file_extension": ".py",
   "mimetype": "text/x-python",
   "name": "python",
   "nbconvert_exporter": "python",
   "pygments_lexer": "ipython3",
   "version": "3.9.12"
  },
  "orig_nbformat": 4,
  "vscode": {
   "interpreter": {
    "hash": "e9397a785faafe2ae1f805d686dae049a13cf3b35be22020a903044296fae4c6"
   }
  }
 },
 "nbformat": 4,
 "nbformat_minor": 2
}
